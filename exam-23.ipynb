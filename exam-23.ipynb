{
 "cells": [
  {
   "cell_type": "code",
   "execution_count": 1,
   "metadata": {},
   "outputs": [],
   "source": [
    "from utils import *\n",
    "\n",
    "np_pretty_print(4)"
   ]
  },
  {
   "cell_type": "markdown",
   "metadata": {},
   "source": [
    "Q3"
   ]
  },
  {
   "cell_type": "code",
   "execution_count": 2,
   "metadata": {},
   "outputs": [
    {
     "name": "stdout",
     "output_type": "stream",
     "text": [
      "[[1023.5038]\n",
      " [ 930.2976]]\n"
     ]
    }
   ],
   "source": [
    "R = cv2.Rodrigues(np.array([-0.1, 0.1, -0.2]))[0]\n",
    "t = np.array([[0.09], [0.05], [0.05]]).T\n",
    "Q = np.array([[-0.03, 0.01, 0.59]]).T\n",
    "K = np.array([[1720, 0, 680],\n",
    "              [0, 1720, 610],\n",
    "              [0, 0, 1]])\n",
    "\n",
    "P = getP(K, R, t)\n",
    "print(Pi(P @ PiInv(Q)))"
   ]
  },
  {
   "cell_type": "markdown",
   "metadata": {},
   "source": [
    "Q5"
   ]
  },
  {
   "cell_type": "code",
   "execution_count": 3,
   "metadata": {},
   "outputs": [],
   "source": [
    "K = np.array([[900, 0, 1070], [0, 900, 610.0], [0, 0, 1]], float)\n",
    "R1 = cv2.Rodrigues(np.array([-1.6, 0.3, -2.1]))[0]\n",
    "t1 = np.array([[0.0], [1.0], [3.0]], float)\n",
    "R2 = cv2.Rodrigues(np.array([-0.4, -1.3, -1.6]))[0]\n",
    "t2 = np.array([[0.0], [1.0], [6.0]], float)\n",
    "R3 = cv2.Rodrigues(np.array([2.5, 1.7, -0.4]))[0]\n",
    "t3 = np.array([[2.0], [-7.0], [25.0]], float)\n",
    "\n",
    "p1 = np.array([[1046.0], [453.0]])\n",
    "p2 = np.array([[1126.0], [671.0]])\n",
    "p3 = np.array([[1165.0], [453.0]])\n",
    "\n",
    "# Relative R and t of second cam\n",
    "R = R2 @ R1.T\n",
    "t = t2 - R2@R1.T@t1\n",
    "E = crossOp(t.T)@R\n",
    "F = np.linalg.inv(K).T @ E @ np.linalg.inv(K)\n",
    "l = F @ PiInv(p1)\n",
    "l = l / math.sqrt(l[0][0]**2 + l[1][0]**2)\n",
    "dist = PiInv(p2).T @ l"
   ]
  },
  {
   "cell_type": "markdown",
   "metadata": {},
   "source": [
    "Q6"
   ]
  },
  {
   "cell_type": "code",
   "execution_count": 4,
   "metadata": {},
   "outputs": [
    {
     "name": "stdout",
     "output_type": "stream",
     "text": [
      "[[3.1006]\n",
      " [0.7432]\n",
      " [0.4649]]\n"
     ]
    }
   ],
   "source": [
    "q = np.hstack([p1, p2, p3])\n",
    "Q = triangulate(q, [getP(K, R1, t1.T), getP(K, R2, t2.T), getP(K, R3, t3.T)])\n",
    "print(Pi(Q))"
   ]
  },
  {
   "cell_type": "markdown",
   "metadata": {},
   "source": [
    "Q11"
   ]
  },
  {
   "cell_type": "code",
   "execution_count": 5,
   "metadata": {},
   "outputs": [],
   "source": [
    "q = np.array([2, 4, 3])\n",
    "l = np.array([1, 2, 2])\n",
    "d = np.dot(q / q[2], l / (math.sqrt(l[0]**2 + l[1]**2)))"
   ]
  },
  {
   "cell_type": "markdown",
   "metadata": {},
   "source": [
    "Q12"
   ]
  },
  {
   "cell_type": "code",
   "execution_count": 6,
   "metadata": {},
   "outputs": [
    {
     "name": "stdout",
     "output_type": "stream",
     "text": [
      "[[  0.       0.       0.       0.       0.    ]\n",
      " [  0.       0.       0.       0.       0.    ]\n",
      " [531.5294 539.9716 517.8194   0.       0.    ]\n",
      " [526.7676 534.8534   0.       0.       0.    ]\n",
      " [  0.       0.       0.       0.       0.    ]]\n"
     ]
    }
   ],
   "source": [
    "data = np.load(\"materials/harris.npy\", allow_pickle=True).item()\n",
    "a = data['g*(I_x^2)']\n",
    "b = data['g*(I_y^2)']\n",
    "c = data['g*(I_x I_y)']\n",
    "k = 0.06\n",
    "t = 516\n",
    "r = np.multiply(a, b) - np.square(c) - k * np.square(a + b)\n",
    "r[np.where(r < t)] = 0\n",
    "print(r)"
   ]
  },
  {
   "cell_type": "markdown",
   "metadata": {},
   "source": [
    "Q13"
   ]
  },
  {
   "cell_type": "code",
   "execution_count": 12,
   "metadata": {},
   "outputs": [
    {
     "name": "stdout",
     "output_type": "stream",
     "text": [
      "(2, 34)\n"
     ]
    }
   ],
   "source": [
    "def fitline(p1, p2):\n",
    "    l = np.cross(p1, p2)\n",
    "    return l / math.sqrt(l[0]**2 + l[1]**2)\n",
    "\n",
    "def get_inliers(ps, l, t):\n",
    "    inliers = []\n",
    "    phom = PiInv(ps)\n",
    "    for i in range(phom.shape[1]):\n",
    "        if abs(np.dot(l, phom[:,i])) < t: inliers.append(phom[:,i])\n",
    "    return Pi(np.vstack(inliers).T)\n",
    "\n",
    "data = np.load(\"materials/RANSAC.npy\", allow_pickle=True).item()\n",
    "points = data['points']\n",
    "x1 = np.reshape(data['x1'], (2, 1))\n",
    "x2 = np.reshape(data['x2'], (2, 1))\n",
    "t = 0.2\n",
    "\n",
    "l = fitline(PiInv(x1).flatten(), PiInv(x2).flatten())\n",
    "inl = get_inliers(points, l, t)\n",
    "print(inl.shape)\n"
   ]
  }
 ],
 "metadata": {
  "kernelspec": {
   "display_name": "comp-vis-env",
   "language": "python",
   "name": "python3"
  },
  "language_info": {
   "codemirror_mode": {
    "name": "ipython",
    "version": 3
   },
   "file_extension": ".py",
   "mimetype": "text/x-python",
   "name": "python",
   "nbconvert_exporter": "python",
   "pygments_lexer": "ipython3",
   "version": "3.10.13"
  }
 },
 "nbformat": 4,
 "nbformat_minor": 2
}
