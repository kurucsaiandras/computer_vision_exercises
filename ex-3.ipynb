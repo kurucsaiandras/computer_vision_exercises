{
 "cells": [
  {
   "cell_type": "code",
   "execution_count": 1,
   "metadata": {},
   "outputs": [],
   "source": [
    "import numpy as np\n",
    "import cv2\n",
    "import matplotlib.pyplot as plt\n",
    "from scipy.spatial.transform import Rotation\n",
    "import utils"
   ]
  },
  {
   "cell_type": "code",
   "execution_count": 2,
   "metadata": {},
   "outputs": [],
   "source": [
    "K1 = np.array([[1000, 0, 300],\n",
    "             [0, 1000, 200],\n",
    "             [0, 0, 1]])\n",
    "\n",
    "R1 = np.identity(3)\n",
    "t1 = np.array([[0.0, 0.0, 0.0]])\n",
    "\n",
    "K2 = K1.copy()\n",
    "R2 = Rotation.from_euler('xyz', [0.7, -0.5, 0.8]).as_matrix()\n",
    "t2 = np.array([[0.2, 2.0, 1.0]])"
   ]
  },
  {
   "cell_type": "code",
   "execution_count": 3,
   "metadata": {},
   "outputs": [
    {
     "name": "stdout",
     "output_type": "stream",
     "text": [
      "[[550.]\n",
      " [325.]]\n",
      "[[582.47256835]\n",
      " [185.98985776]]\n"
     ]
    }
   ],
   "source": [
    "Q = np.array([[1.0, 0.5, 4.0]]).T\n",
    "\n",
    "p1 = utils.projectpoints(K1, R1, t1, Q)\n",
    "p2 = utils.projectpoints(K2, R2, t2, Q)\n",
    "print(p1)\n",
    "print(p2)"
   ]
  },
  {
   "cell_type": "code",
   "execution_count": 4,
   "metadata": {},
   "outputs": [
    {
     "name": "stdout",
     "output_type": "stream",
     "text": [
      "[[ 0.15827765 -0.35170533 -0.01455361]]\n",
      "[[ 0.15827765 -0.35170533 -0.01455361]]\n",
      "[[ True  True  True]]\n"
     ]
    }
   ],
   "source": [
    "p1_ = np.random.rand(1, 3)\n",
    "p2_ = np.random.rand(1, 3)\n",
    "\n",
    "print(np.cross(p1_, p2_))\n",
    "print(p1_@utils.crossOp(p2_))\n",
    "print(np.cross(p1_, p2_) == p1_@utils.crossOp(p2_))"
   ]
  },
  {
   "cell_type": "markdown",
   "metadata": {},
   "source": [
    "3.3"
   ]
  },
  {
   "cell_type": "code",
   "execution_count": 5,
   "metadata": {},
   "outputs": [
    {
     "name": "stdout",
     "output_type": "stream",
     "text": [
      "[[ 3.29311881e-07  8.19396327e-07  1.79162592e-03]\n",
      " [ 5.15532551e-07 -8.76915984e-07  9.31426656e-05]\n",
      " [-1.29882755e-03  1.51951700e-03 -1.10072682e+00]]\n"
     ]
    }
   ],
   "source": [
    "E = utils.crossOp(t2)@R2\n",
    "\n",
    "F = np.linalg.inv(K2).T @ E @ np.linalg.inv(K1)\n",
    "print(F)"
   ]
  },
  {
   "cell_type": "markdown",
   "metadata": {},
   "source": [
    "3.4"
   ]
  },
  {
   "cell_type": "code",
   "execution_count": 6,
   "metadata": {},
   "outputs": [
    {
     "name": "stdout",
     "output_type": "stream",
     "text": [
      "[[ 8.95628028e-03]\n",
      " [ 3.66754577e-04]\n",
      " [-5.28500021e+00]]\n"
     ]
    }
   ],
   "source": [
    "l = F @ utils.PiInv(p1)\n",
    "print(l / 1.3212389 * 5.285) #scale to get the solution shown in the exercise pdf"
   ]
  },
  {
   "cell_type": "markdown",
   "metadata": {},
   "source": [
    "3.5"
   ]
  },
  {
   "cell_type": "code",
   "execution_count": 7,
   "metadata": {},
   "outputs": [
    {
     "name": "stdout",
     "output_type": "stream",
     "text": [
      "[[4.4408921e-16]]\n"
     ]
    }
   ],
   "source": [
    "q1 = np.linalg.inv(K1)@utils.PiInv(p1)\n",
    "q2 = np.linalg.inv(K2)@utils.PiInv(p2)\n",
    "\n",
    "print(utils.PiInv(p2).T @ F @ utils.PiInv(p1))"
   ]
  },
  {
   "cell_type": "markdown",
   "metadata": {},
   "source": [
    "3.8"
   ]
  },
  {
   "cell_type": "code",
   "execution_count": 8,
   "metadata": {},
   "outputs": [
    {
     "name": "stdout",
     "output_type": "stream",
     "text": [
      "[[-1.50228281e-08 -3.45997421e-07 -3.47606501e-05]\n",
      " [-2.06767970e-07  3.96284278e-08 -9.29558240e-04]\n",
      " [ 2.61581163e-05  1.12168578e-03  1.17449076e-02]]\n"
     ]
    }
   ],
   "source": [
    "d = np.load('TwoImageDataCar.npy', allow_pickle=True).item()\n",
    "im1 = d['im1']\n",
    "R1 = d['R1']\n",
    "t1 = d['t1']\n",
    "im2 = d['im2']\n",
    "R2 = d['R2']\n",
    "t2 = d['t2']\n",
    "K = d['K']\n",
    "R = R2 @ R1.T\n",
    "t = np.expand_dims(t2 - R2@R1.T@t1, axis=0)\n",
    "E = utils.crossOp(t)@R\n",
    "F = np.linalg.inv(K).T @ E @ np.linalg.inv(K)\n",
    "print(F)"
   ]
  },
  {
   "cell_type": "code",
   "execution_count": 9,
   "metadata": {},
   "outputs": [],
   "source": [
    "def DrawLine(l, shape, ax):\n",
    "    #Checks where the line intersects the four sides of the image\n",
    "    # and finds the two intersections that are within the frame\n",
    "    def in_frame(l_im):\n",
    "        q = np.cross(l.flatten(), l_im)\n",
    "        q = q[:2]/q[2]\n",
    "        if all(q>=0) and all(q+1<=shape[1::-1]):\n",
    "            return q\n",
    "    lines = [[1, 0, 0], [0, 1, 0], [1, 0, 1-shape[1]], [0, 1, 1-shape[0]]]\n",
    "    P = [in_frame(l_im) for l_im in lines if in_frame(l_im) is not None]\n",
    "    if (len(P)==0):\n",
    "        print(\"Line is completely outside image\")\n",
    "    ax.plot(*np.array(P).T)"
   ]
  },
  {
   "cell_type": "code",
   "execution_count": 10,
   "metadata": {},
   "outputs": [],
   "source": [
    "%matplotlib qt\n",
    "\n",
    "fig, axes = plt.subplots(1, 2)\n",
    "\n",
    "axes[0].imshow(im1)\n",
    "axes[0].axis('off')\n",
    "\n",
    "axes[1].imshow(im2)\n",
    "axes[1].axis('off')\n",
    "\n",
    "# From img1 to img2\n",
    "#p = np.asarray(plt.ginput(1))\n",
    "#l = F @ utils.PiInv(p.T)\n",
    "#DrawLine(l, im2.shape, axes[1])\n",
    "\n",
    "# From img2 to img1\n",
    "p = np.asarray(plt.ginput(1))\n",
    "l = (utils.PiInv(p.T).T @ F)\n",
    "DrawLine(l, im2.shape, axes[0])\n",
    "\n",
    "plt.show()"
   ]
  },
  {
   "cell_type": "markdown",
   "metadata": {},
   "source": [
    "3.11"
   ]
  },
  {
   "cell_type": "code",
   "execution_count": 11,
   "metadata": {},
   "outputs": [
    {
     "name": "stdout",
     "output_type": "stream",
     "text": [
      "Original points:\n",
      "[[280.1375    ]\n",
      " [ 57.30615625]]\n",
      "[[387.225     ]\n",
      " [ 58.19990625]]\n",
      "\n",
      "Reconstructed 3D point:\n",
      "[[-0.43217281]\n",
      " [-0.54361062]\n",
      " [ 1.74392106]]\n",
      "\n",
      "After reprojection:\n",
      "[[280.11115436]\n",
      " [ 55.6696984 ]]\n",
      "[[387.33099885]\n",
      " [ 59.84308248]]\n"
     ]
    }
   ],
   "source": [
    "%matplotlib qt\n",
    "\n",
    "fig, axes = plt.subplots(1, 2)\n",
    "\n",
    "axes[0].imshow(im1)\n",
    "axes[0].axis('off')\n",
    "\n",
    "axes[1].imshow(im2)\n",
    "axes[1].axis('off')\n",
    "\n",
    "q1 = np.asarray(plt.ginput(1)).T\n",
    "q2 = np.asarray(plt.ginput(1)).T\n",
    "\n",
    "print(\"Original points:\")\n",
    "print(q1)\n",
    "print(q2)\n",
    "print()\n",
    "\n",
    "q = np.concatenate((q1, q2), axis=1)\n",
    "P = [utils.getP(K, R1, np.expand_dims(t1, axis=0)), utils.getP(K, R2, np.expand_dims(t2, axis=0))]\n",
    "Q = utils.triangulate(q, P)\n",
    "\n",
    "print(\"Reconstructed 3D point:\")\n",
    "print(utils.Pi(Q))\n",
    "print()\n",
    "\n",
    "q1_ = utils.Pi(P[0] @ Q)\n",
    "q2_ = utils.Pi(P[1] @ Q)\n",
    "\n",
    "print(\"After reprojection:\")\n",
    "print(q1_)\n",
    "print(q2_)"
   ]
  },
  {
   "cell_type": "markdown",
   "metadata": {},
   "source": [
    "Quizzes"
   ]
  },
  {
   "cell_type": "code",
   "execution_count": 12,
   "metadata": {},
   "outputs": [
    {
     "name": "stdout",
     "output_type": "stream",
     "text": [
      "[[-0.0931562]]\n"
     ]
    }
   ],
   "source": [
    "K = np.array([[900, 0, 1070], [0, 900, 610.0], [0, 0, 1]], float)\n",
    "R1 = cv2.Rodrigues(np.array([-1.6, 0.3, -2.1]))[0]\n",
    "t1 = np.array([0.0, 1.0, 3.0], float)\n",
    "R2 = cv2.Rodrigues(np.array([-0.4, -1.3, -1.6]))[0]\n",
    "t2 = np.array([0.0, 1.0, 6.0], float)\n",
    "R3 = cv2.Rodrigues(np.array([2.5, 1.7, -0.4]))[0]\n",
    "t3 = np.array([2.0, -7.0, 25.0], float)\n",
    "\n",
    "p1 = np.array([[1046.0], [453.0]])\n",
    "p2 = np.array([[1126.0], [671.0]])\n",
    "p3 = np.array([[1165.0], [453.0]])\n",
    "\n",
    "R = R2 @ R1.T\n",
    "t = np.expand_dims(t2 - R2@R1.T@t1, axis=0)\n",
    "E = utils.crossOp(t)@R\n",
    "F = np.linalg.inv(K).T @ E @ np.linalg.inv(K)\n",
    "\n",
    "dist = utils.PiInv(p2).T @ F @ utils.PiInv(p1)\n",
    "print(dist)"
   ]
  },
  {
   "cell_type": "code",
   "execution_count": 14,
   "metadata": {},
   "outputs": [
    {
     "name": "stdout",
     "output_type": "stream",
     "text": [
      "Original points:\n",
      "[[1046. 1126. 1165.]\n",
      " [ 453.  671.  453.]]\n",
      "\n",
      "Reconstructed 3D point:\n",
      "[[3.10058867]\n",
      " [0.74321098]\n",
      " [0.46490561]]\n",
      "\n",
      "After reprojection:\n",
      "[[1069.22527081]\n",
      " [ 422.9922658 ]]\n",
      "[[976.84988144]\n",
      " [607.04855241]]\n",
      "[[1209.96274055]\n",
      " [ 435.46606514]]\n"
     ]
    }
   ],
   "source": [
    "q = np.hstack((p1, p2, p3))\n",
    "\n",
    "print(\"Original points:\")\n",
    "print(q)\n",
    "print()\n",
    "\n",
    "P = [utils.getP(K, R1, np.expand_dims(t1, axis=0)),\n",
    "     utils.getP(K, R2, np.expand_dims(t2, axis=0)),\n",
    "     utils.getP(K, R3, np.expand_dims(t3, axis=0))]\n",
    "Q = utils.triangulate(q, P)\n",
    "\n",
    "print(\"Reconstructed 3D point:\")\n",
    "print(utils.Pi(Q))\n",
    "print()\n",
    "\n",
    "q1_ = utils.Pi(P[0] @ Q)\n",
    "q2_ = utils.Pi(P[1] @ Q)\n",
    "q3_ = utils.Pi(P[2] @ Q)\n",
    "\n",
    "print(\"After reprojection:\")\n",
    "print(q1_)\n",
    "print(q2_)\n",
    "print(q3_)"
   ]
  }
 ],
 "metadata": {
  "kernelspec": {
   "display_name": "comp-vis-env",
   "language": "python",
   "name": "python3"
  },
  "language_info": {
   "codemirror_mode": {
    "name": "ipython",
    "version": 3
   },
   "file_extension": ".py",
   "mimetype": "text/x-python",
   "name": "python",
   "nbconvert_exporter": "python",
   "pygments_lexer": "ipython3",
   "version": "3.10.13"
  }
 },
 "nbformat": 4,
 "nbformat_minor": 2
}
